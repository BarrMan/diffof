{
 "cells": [
  {
   "cell_type": "code",
   "execution_count": null,
   "id": "852f0bac",
   "metadata": {},
   "outputs": [],
   "source": [
    "%%graph_notebook_config\n",
    "{\n",
    "  \"host\": \"gremlin\",\n",
    "  \"port\": 8182,\n",
    "  \"auth_mode\": \"DEFAULT\",\n",
    "  \"iam_credentials_provider_type\": \"ROLE\",\n",
    "  \"load_from_s3_arn\": \"\",\n",
    "  \"ssl\": false,\n",
    "  \"aws_region\": \"us-east-1\"\n",
    "}"
   ]
  },
  {
   "cell_type": "code",
   "execution_count": null,
   "id": "8dbea7bb",
   "metadata": {},
   "outputs": [],
   "source": [
    "%%gremlin -p v,oute,inv\n",
    "\n",
    "g.V().outE().inV().path().by(valueMap('phrase').with(WithOptions.tokens))"
   ]
  }
 ],
 "metadata": {
  "kernelspec": {
   "display_name": "Python 3",
   "language": "python",
   "name": "python3"
  },
  "language_info": {
   "codemirror_mode": {
    "name": "ipython",
    "version": 3
   },
   "file_extension": ".py",
   "mimetype": "text/x-python",
   "name": "python",
   "nbconvert_exporter": "python",
   "pygments_lexer": "ipython3",
   "version": "3.6.1"
  }
 },
 "nbformat": 4,
 "nbformat_minor": 5
}
